{
 "cells": [
  {
   "cell_type": "markdown",
   "id": "fb0e6cf9",
   "metadata": {},
   "source": [
    "<img src=\"https://github.com/jina-ai/discoart/blob/main/.github/banner.png?raw=true\" alt=\"Create Disco Diffusion artworks in one-line\">\n",
    "<p align=center>\n",
    "<a href=\"https://pypi.org/project/discoart/\"><img src=\"https://img.shields.io/pypi/v/discoart?style=flat-square&amp;label=Release\" alt=\"PyPI\"></a>\n",
    "<a href=\"https://slack.jina.ai\"><img src=\"https://img.shields.io/badge/Slack-3.1k-blueviolet?logo=slack&amp;logoColor=white&style=flat-square\"></a>\n",
    "<a href=\"https://colab.research.google.com/github/jina-ai/dalle-flow/blob/main/client.ipynb\"><img src=\"https://img.shields.io/badge/Open-in%20Colab-brightgreen?logo=google-colab&style=flat-square\" alt=\"Open in Google Colab\"/></a>\n",
    "</p>\n",
    "\n",
    "😎 **If you are already a DD user**: you are ready to go! There is no extra learning, DiscoArt respects the same parameter semantics as DD5.2. So just unleash your creativity!\n",
    "\n",
    "There are some minor differences between DiscoArt and DD5.x:\n",
    "  - DiscoArt fixes multiple bugs e.g. weighted prompts, cut scheduling in original DD5.4, which improves the generation quality.\n",
    "  - DiscoArt does not support video generation and `image_prompt` (which was marked as ineffective in DD 5.4).\n",
    "  - Due to no video support, `text_prompts` in DiscoArt accepts a string or a list of strings, not a dictionary; i.e. no frame index `0:` or `100:`.\n",
    "  - `clip_models` accepts a list of values from [all open-clip pretrained models and weights](https://github.com/jina-ai/discoart/blob/main/discoart/resources/docstrings.yml#L90).\n",
    "  - `cut_ic_pow` is changed to a scheduling parameter to control the power of inner cut, the syntax is the same as `cut_overview`, `cut_innercut`.\n",
    "  - `clip_models_schedules` is added to control the scheduling of clip models, the syntax is the same as `cut_overview` but as a bool list `[True]*400+[False]*600`.\n",
    "  - `use_secondary_model` supports scheduling expressions, e.g. `[True]*400+[False]*600`.\n",
    "  - `diffusion_model` and `diffusion_model_config` can be specified load custom diffusion model and override the default diffusion model.\n",
    "\n",
    "You can always do `from discoart import cheatsheet; cheatsheet()` to check all new/modified parameters.\n",
    "\n",
    "\n",
    "\n",
    "👶 **If you are a [DALL·E Flow](https://github.com/jina-ai/dalle-flow/) or new user**: you may want to take step by step, as Disco Diffusion works in a very different way than DALL·E. It is much more advanced and powerful: e.g. Disco Diffusion can take weighted & structured text prompts; it can initialize from a image with controlled noise; and there are way more parameters one can tweak. Impatient prompt like `\"armchair avocado\"` will give you nothing but confusion and frustration. I highly recommend you to check out the following resources before trying your own prompt:\n",
    "- [Zippy's Disco Diffusion Cheatsheet v0.3](https://docs.google.com/document/d/1l8s7uS2dGqjztYSjPpzlmXLjl5PM3IGkRWI3IiCuK7g/mobilebasic)\n",
    "- [EZ Charts - Diffusion Parameter Studies](https://docs.google.com/document/d/1ORymHm0Te18qKiHnhcdgGp-WSt8ZkLZvow3raiu2DVU/edit#)\n",
    "- [Disco Diffusion 70+ Artist Studies](https://weirdwonderfulai.art/resources/disco-diffusion-70-plus-artist-studies/)\n",
    "- [A Traveler’s Guide to the Latent Space](https://sweet-hall-e72.notion.site/A-Traveler-s-Guide-to-the-Latent-Space-85efba7e5e6a40e5bd3cae980f30235f#e122e748b86e4fc0ad6a7a50e46d6e10)\n",
    "- [Disco Diffusion Illustrated Settings](https://coar.notion.site/Disco-Diffusion-Illustrated-Settings-cd4badf06e08440c99d8a93d4cd39f51)\n",
    "- [Coar’s Disco Diffusion Guide](https://coar.notion.site/coar/Coar-s-Disco-Diffusion-Guide-3d86d652c15d4ca986325e808bde06aa#8a3c6e9e4b6847afa56106eacb6f1f79)\n",
    "\n",
    "# Install"
   ]
  },
  {
   "cell_type": "code",
   "execution_count": null,
   "id": "648b25f1",
   "metadata": {
    "pycharm": {
     "name": "#%%\n"
    }
   },
   "outputs": [],
   "source": [
    "!pip install -U discoart\n",
    "\n",
    "from discoart import create"
   ]
  },
  {
   "cell_type": "markdown",
   "id": "ec9518fd",
   "metadata": {},
   "source": [
    "\n",
    "---\n",
    "\n",
    "# Create artworks"
   ]
  },
  {
   "cell_type": "code",
   "execution_count": null,
   "id": "9dec39ce",
   "metadata": {},
   "outputs": [],
   "source": [
    "da = create()"
   ]
  },
  {
   "cell_type": "markdown",
   "id": "fcd8e63d",
   "metadata": {},
   "source": [
    "That's it. It is that simple."
   ]
  },
  {
   "cell_type": "markdown",
   "id": "4342ccc8",
   "metadata": {},
   "source": [
    "# Specify parameters"
   ]
  },
  {
   "cell_type": "code",
   "execution_count": null,
   "id": "406a8000",
   "metadata": {},
   "outputs": [],
   "source": [
    "from discoart import create\n",
    "\n",
    "da = create(text_prompts='A painting of sea cliffs in a tumultuous storm, Trending on ArtStation.',\n",
    "       init_image='https://d2vyhzeko0lke5.cloudfront.net/2f4f6dfa5a05e078469ebe57e77b72f0.png',\n",
    "       skip_steps=100)"
   ]
  },
  {
   "cell_type": "markdown",
   "id": "de8fdabc",
   "metadata": {},
   "source": [
    "## Check parameter cheatsheet\n",
    "\n",
    "But what parameters can be used in `create()`? just type `cheatsheet()` to lookup anytime:"
   ]
  },
  {
   "cell_type": "code",
   "execution_count": null,
   "id": "ddff9edf",
   "metadata": {},
   "outputs": [],
   "source": [
    "from discoart import cheatsheet\n",
    "\n",
    "cheatsheet()"
   ]
  },
  {
   "cell_type": "markdown",
   "id": "14a36e28",
   "metadata": {},
   "source": [
    "\n",
    "🎉 That's all you need to learn.\n",
    "\n",
    "Of course if you have some extra time, it would be helpful for you to learn the following API of DiscoArt.\n",
    "\n",
    "\n",
    "---\n",
    "\n",
    "## Visualize results\n",
    "\n",
    "`create()` returns `da`, a [DocumentArray](https://docarray.jina.ai/fundamentals/documentarray/)-type object. It contains the following information:\n",
    "- All arguments passed to `create()` function, including seed, text prompts and model parameters.\n",
    "- 4 generated image and its intermediate steps' images, where `4` is determined by `n_batches` and is the default value. \n",
    "\n",
    "This allows you to further post-process, analyze, export the results with powerful DocArray API.\n",
    "\n",
    "Images are stored as Data URI in `.uri`, to save the first image as a local file:\n"
   ]
  },
  {
   "cell_type": "code",
   "execution_count": null,
   "id": "89c8e773",
   "metadata": {},
   "outputs": [],
   "source": [
    "da[0].save_uri_to_file('discoart-result.png')"
   ]
  },
  {
   "cell_type": "markdown",
   "id": "375f1c1a",
   "metadata": {},
   "source": [
    "To save all final images:"
   ]
  },
  {
   "cell_type": "code",
   "execution_count": null,
   "id": "2c87f467",
   "metadata": {},
   "outputs": [],
   "source": [
    "for idx, d in enumerate(da):\n",
    "    d.save_uri_to_file(f'discoart-result-{idx}.png')"
   ]
  },
  {
   "cell_type": "markdown",
   "id": "a6746373",
   "metadata": {},
   "source": [
    "You can also display all four final images in a grid:"
   ]
  },
  {
   "cell_type": "code",
   "execution_count": null,
   "id": "5c2e66a5",
   "metadata": {},
   "outputs": [],
   "source": [
    "da.plot_image_sprites(skip_empty=True, show_index=True, keep_aspect_ratio=True)"
   ]
  },
  {
   "cell_type": "markdown",
   "id": "160012ad",
   "metadata": {},
   "source": [
    "## Visualize intermediate steps\n",
    "\n",
    "You can also zoom into a run and check out intermediate steps:"
   ]
  },
  {
   "cell_type": "code",
   "execution_count": null,
   "id": "f1a66ddf",
   "metadata": {},
   "outputs": [],
   "source": [
    "da[0].chunks.plot_image_sprites(skip_empty=True, show_index=True, keep_aspect_ratio=True)"
   ]
  },
  {
   "cell_type": "markdown",
   "id": "57612585",
   "metadata": {},
   "source": [
    "You can `.display()` the chunks one by one, or save one via `.save_uri_to_file()`, or save all intermediate steps as a GIF:"
   ]
  },
  {
   "cell_type": "code",
   "execution_count": null,
   "id": "03c41055",
   "metadata": {},
   "outputs": [],
   "source": [
    "da[0].chunks.save_gif('lighthouse.gif', show_index=True, inline_display=True, size_ratio=0.5)"
   ]
  },
  {
   "cell_type": "markdown",
   "id": "bc3d160d",
   "metadata": {},
   "source": [
    "## Export configs\n",
    "\n",
    "You can review its parameters from `da[0].tags` or export it as an SVG image:"
   ]
  },
  {
   "cell_type": "code",
   "execution_count": null,
   "id": "376e7da6",
   "metadata": {},
   "outputs": [],
   "source": [
    "from discoart.config import save_config_svg\n",
    "\n",
    "save_config_svg(da, 'my.svg')"
   ]
  },
  {
   "cell_type": "markdown",
   "id": "5d677e95",
   "metadata": {},
   "source": [
    "## Pull results anywhere anytime\n",
    "\n",
    "At anytime on any machine, you can pull the real-time results (including paramters, intermedidate diffusion steps, final results) with a session ID:\n",
    "\n",
    "> Please replace `discoart-3205998582` to your own when you run the above 2 cells!"
   ]
  },
  {
   "cell_type": "code",
   "execution_count": null,
   "id": "e569788a",
   "metadata": {},
   "outputs": [],
   "source": [
    "from docarray import DocumentArray\n",
    "\n",
    "da = DocumentArray.pull('discoart-3205998582')"
   ]
  },
  {
   "cell_type": "markdown",
   "id": "7ee3653d",
   "metadata": {},
   "source": [
    "## Reuse a Document as initial state\n",
    "\n",
    "Consider a Document as a self-contained data with config and image, one can use it as the initial state for the future run. Its `.tags` will be used as the initial parameters; `.uri` if presented will be used as the initial image."
   ]
  },
  {
   "cell_type": "code",
   "execution_count": null,
   "id": "9977f99a",
   "metadata": {},
   "outputs": [],
   "source": [
    "from discoart import create\n",
    "from docarray import DocumentArray\n",
    "\n",
    "da = DocumentArray.pull('discoart-3205998582')\n",
    "\n",
    "create(init_document=da[0],\n",
    "       cut_ic_pow=0.5,\n",
    "       tv_scale=600, \n",
    "       cut_overview='[12]*1000', \n",
    "       cut_innercut='[12]*1000', \n",
    "       use_secondary_model=False)"
   ]
  }
 ],
 "metadata": {
  "kernelspec": {
   "display_name": "Python 3 (ipykernel)",
   "language": "python",
   "name": "python3"
  },
  "language_info": {
   "codemirror_mode": {
    "name": "ipython",
    "version": 3
   },
   "file_extension": ".py",
   "mimetype": "text/x-python",
   "name": "python",
   "nbconvert_exporter": "python",
   "pygments_lexer": "ipython3",
   "version": "3.7.9"
  }
 },
 "nbformat": 4,
 "nbformat_minor": 5
}
